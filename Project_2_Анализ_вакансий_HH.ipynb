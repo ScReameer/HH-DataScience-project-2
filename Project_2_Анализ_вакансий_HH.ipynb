{
  "cells": [
    {
      "cell_type": "markdown",
      "id": "42289889-bd57-434e-9637-d3e354756316",
      "metadata": {
        "id": "42289889-bd57-434e-9637-d3e354756316"
      },
      "source": [
        "<center> <img src = https://raw.githubusercontent.com/AndreyRysistov/DatasetsForPandas/main/hh%20label.jpg alt=\"drawing\" style=\"width:400px;\">"
      ]
    },
    {
      "cell_type": "markdown",
      "id": "829cb75b-f14e-4ba8-9195-7ba929a7d656",
      "metadata": {
        "id": "829cb75b-f14e-4ba8-9195-7ba929a7d656",
        "tags": []
      },
      "source": [
        "# <center> Проект: Анализ вакансий из HeadHunter\n",
        "   "
      ]
    },
    {
      "cell_type": "code",
      "execution_count": 1,
      "id": "dccfde33-2452-43fb-a8a5-5c6ebc02a71d",
      "metadata": {
        "id": "dccfde33-2452-43fb-a8a5-5c6ebc02a71d"
      },
      "outputs": [],
      "source": [
        "import pandas as pd\n",
        "import psycopg2\n",
        "import warnings\n",
        "import plotly.express as px\n",
        "import requests\n",
        "import plotly.io as pio\n",
        "from bs4 import BeautifulSoup"
      ]
    },
    {
      "cell_type": "code",
      "execution_count": 2,
      "id": "263ac81b",
      "metadata": {},
      "outputs": [],
      "source": [
        "# Use only one of the following lines:\n",
        "\n",
        "# Display interactive graphs\n",
        "# pio.renderers.default = 'plotly_mimetype+notebook'\n",
        "\n",
        "# Display image of graphs for correct displaying on GitHub \n",
        "pio.renderers.default = 'png'"
      ]
    },
    {
      "cell_type": "code",
      "execution_count": 3,
      "id": "fb9a14a3",
      "metadata": {},
      "outputs": [],
      "source": [
        "warnings.filterwarnings('ignore')"
      ]
    },
    {
      "cell_type": "code",
      "execution_count": 4,
      "id": "oVKH4ehvf8Ay",
      "metadata": {
        "id": "oVKH4ehvf8Ay"
      },
      "outputs": [],
      "source": [
        "# Set your DB сonnection options here\n",
        "DBNAME = 'xxxxxxxxxxxx'\n",
        "USER = 'xxxxxxxxxxxx'\n",
        "PASSWORD = 'xxxxxxxxxxxx'\n",
        "HOST = 'xxxxxxxxxxxx'\n",
        "PORT = 'xxxxxxxxxxxx'"
      ]
    },
    {
      "cell_type": "code",
      "execution_count": 5,
      "id": "G4X_q8KBf7SF",
      "metadata": {
        "id": "G4X_q8KBf7SF"
      },
      "outputs": [],
      "source": [
        "connection = psycopg2.connect(\n",
        "    dbname=DBNAME,\n",
        "    user=USER,\n",
        "    host=HOST,\n",
        "    password=PASSWORD,\n",
        "    port=PORT\n",
        ")"
      ]
    },
    {
      "cell_type": "markdown",
      "id": "0dc6476b-7a00-44f1-ac93-6e3baed33a29",
      "metadata": {
        "id": "0dc6476b-7a00-44f1-ac93-6e3baed33a29"
      },
      "source": [
        "# Юнит 3. Предварительный анализ данных"
      ]
    },
    {
      "cell_type": "markdown",
      "id": "889782b6-8d1c-410e-8920-e57f27917c64",
      "metadata": {
        "id": "889782b6-8d1c-410e-8920-e57f27917c64"
      },
      "source": [
        "1. Напишите запрос, который посчитает количество вакансий в нашей базе (вакансии находятся в таблице vacancies). "
      ]
    },
    {
      "cell_type": "code",
      "execution_count": 6,
      "id": "bc39e68e-ed02-4ee2-9235-7258a2f867a8",
      "metadata": {
        "id": "bc39e68e-ed02-4ee2-9235-7258a2f867a8"
      },
      "outputs": [],
      "source": [
        "query_3_1 = f'''\n",
        "    SELECT\n",
        "        COUNT(id) total_vacancies\n",
        "    FROM public.vacancies\n",
        "'''"
      ]
    },
    {
      "cell_type": "code",
      "execution_count": 7,
      "id": "7mAwtsk4hEHY",
      "metadata": {
        "id": "7mAwtsk4hEHY"
      },
      "outputs": [
        {
          "name": "stdout",
          "output_type": "stream",
          "text": [
            "Всего вакансий в базе: 49197\n"
          ]
        }
      ],
      "source": [
        "total_vacancies = pd.read_sql_query(query_3_1, connection)\n",
        "print('Всего вакансий в базе:', total_vacancies.iloc[0, 0])"
      ]
    },
    {
      "cell_type": "markdown",
      "id": "b583485d-1f9e-494e-ada4-80ffff7c53d6",
      "metadata": {
        "id": "b583485d-1f9e-494e-ada4-80ffff7c53d6"
      },
      "source": [
        "2. Напишите запрос, который посчитает количество работодателей (таблица employers). "
      ]
    },
    {
      "cell_type": "code",
      "execution_count": 8,
      "id": "5408c52c-3407-4a63-b25b-1aafa2322d28",
      "metadata": {
        "id": "5408c52c-3407-4a63-b25b-1aafa2322d28"
      },
      "outputs": [],
      "source": [
        "query_3_2 = f'''\n",
        "    SELECT\n",
        "        COUNT(id) total_employers\n",
        "    FROM public.employers\n",
        "'''"
      ]
    },
    {
      "cell_type": "code",
      "execution_count": 9,
      "id": "jVL4eshKhdqc",
      "metadata": {
        "id": "jVL4eshKhdqc"
      },
      "outputs": [
        {
          "name": "stdout",
          "output_type": "stream",
          "text": [
            "Всего работодателей в базе: 23501\n"
          ]
        }
      ],
      "source": [
        "total_employers = pd.read_sql_query(query_3_2, connection)\n",
        "print('Всего работодателей в базе:', total_employers.iloc[0, 0])"
      ]
    },
    {
      "cell_type": "markdown",
      "id": "a2bfff1f-c975-4bf6-84be-2185d79dcb76",
      "metadata": {
        "id": "a2bfff1f-c975-4bf6-84be-2185d79dcb76"
      },
      "source": [
        "3. Посчитате с помощью запроса количество регионов (таблица areas)."
      ]
    },
    {
      "cell_type": "code",
      "execution_count": 10,
      "id": "1m8QJwBYhey6",
      "metadata": {
        "id": "1m8QJwBYhey6"
      },
      "outputs": [],
      "source": [
        "query_3_3 = f'''\n",
        "    SELECT\n",
        "        COUNT(id) total_areas\n",
        "    FROM public.areas\n",
        "'''"
      ]
    },
    {
      "cell_type": "code",
      "execution_count": 11,
      "id": "EZsn9tlfhe7f",
      "metadata": {
        "id": "EZsn9tlfhe7f"
      },
      "outputs": [
        {
          "name": "stdout",
          "output_type": "stream",
          "text": [
            "Всего регионов в базе: 1362\n"
          ]
        }
      ],
      "source": [
        "total_areas = pd.read_sql_query(query_3_3, connection)\n",
        "print('Всего регионов в базе:', total_areas.iloc[0, 0])"
      ]
    },
    {
      "cell_type": "markdown",
      "id": "41bb59f3-53cc-4a67-a5bc-bedf573955e4",
      "metadata": {
        "id": "41bb59f3-53cc-4a67-a5bc-bedf573955e4"
      },
      "source": [
        "4. Посчитате с помощью запроса количество сфер деятельности в базе (таблица industries)."
      ]
    },
    {
      "cell_type": "code",
      "execution_count": 12,
      "id": "d286cf4c-707b-4cd2-9190-7ab3587d04a1",
      "metadata": {
        "id": "d286cf4c-707b-4cd2-9190-7ab3587d04a1"
      },
      "outputs": [],
      "source": [
        "query_3_4 = f'''\n",
        "    SELECT\n",
        "        COUNT(id) total_industries\n",
        "    FROM public.industries\n",
        "'''"
      ]
    },
    {
      "cell_type": "code",
      "execution_count": 13,
      "id": "JYAaoZ4qhfzW",
      "metadata": {
        "id": "JYAaoZ4qhfzW"
      },
      "outputs": [
        {
          "name": "stdout",
          "output_type": "stream",
          "text": [
            "Всего сфер деятельности в базе: 294\n"
          ]
        }
      ],
      "source": [
        "total_industries = pd.read_sql_query(query_3_4, connection)\n",
        "print('Всего сфер деятельности в базе:', total_industries.iloc[0, 0])"
      ]
    },
    {
      "cell_type": "markdown",
      "id": "9a8a2181-6914-448b-85f1-38f5f18b8a93",
      "metadata": {
        "id": "9a8a2181-6914-448b-85f1-38f5f18b8a93"
      },
      "source": [
        "***"
      ]
    },
    {
      "attachments": {},
      "cell_type": "markdown",
      "id": "e88ca934",
      "metadata": {},
      "source": [
        "Количество вакансий примерно в 2 раза больше, чем количество работодателей, что свидетельствует о том, что многие работодатели публикуют более одной вакансии."
      ]
    },
    {
      "cell_type": "markdown",
      "id": "8d62a9f3-f64e-4fe7-bdac-c4dffa16155e",
      "metadata": {
        "id": "8d62a9f3-f64e-4fe7-bdac-c4dffa16155e"
      },
      "source": [
        "# Юнит 4. Детальный анализ вакансий"
      ]
    },
    {
      "cell_type": "markdown",
      "id": "93053d3d-b284-481a-9cf7-012d7014c0e0",
      "metadata": {
        "id": "93053d3d-b284-481a-9cf7-012d7014c0e0"
      },
      "source": [
        "1. Напишите запрос, который позволит узнать, сколько (cnt) вакансий в каждом регионе (area).\n",
        "Отсортируйте по количеству вакансий в порядке убывания."
      ]
    },
    {
      "cell_type": "code",
      "execution_count": 14,
      "id": "3f069da6-fdc9-4ae7-b514-fafe2675efd3",
      "metadata": {
        "id": "3f069da6-fdc9-4ae7-b514-fafe2675efd3"
      },
      "outputs": [],
      "source": [
        "n = 5\n",
        "query_4_1 = f'''\n",
        "    SELECT\n",
        "        a.name area,\n",
        "        COUNT(a.name) cnt\n",
        "    FROM\n",
        "        public.areas a\n",
        "        JOIN public.vacancies v ON a.id = v.area_id\n",
        "    GROUP BY a.name \n",
        "    ORDER BY COUNT(a.name) DESC\n",
        "    LIMIT {n}\n",
        "'''"
      ]
    },
    {
      "cell_type": "code",
      "execution_count": 15,
      "id": "P7QL86hrjhRJ",
      "metadata": {
        "id": "P7QL86hrjhRJ"
      },
      "outputs": [
        {
          "data": {
            "text/html": [
              "<div>\n",
              "<style scoped>\n",
              "    .dataframe tbody tr th:only-of-type {\n",
              "        vertical-align: middle;\n",
              "    }\n",
              "\n",
              "    .dataframe tbody tr th {\n",
              "        vertical-align: top;\n",
              "    }\n",
              "\n",
              "    .dataframe thead th {\n",
              "        text-align: right;\n",
              "    }\n",
              "</style>\n",
              "<table border=\"1\" class=\"dataframe\">\n",
              "  <thead>\n",
              "    <tr style=\"text-align: right;\">\n",
              "      <th></th>\n",
              "      <th>area</th>\n",
              "      <th>cnt</th>\n",
              "    </tr>\n",
              "  </thead>\n",
              "  <tbody>\n",
              "    <tr>\n",
              "      <th>0</th>\n",
              "      <td>Москва</td>\n",
              "      <td>5333</td>\n",
              "    </tr>\n",
              "    <tr>\n",
              "      <th>1</th>\n",
              "      <td>Санкт-Петербург</td>\n",
              "      <td>2851</td>\n",
              "    </tr>\n",
              "    <tr>\n",
              "      <th>2</th>\n",
              "      <td>Минск</td>\n",
              "      <td>2112</td>\n",
              "    </tr>\n",
              "    <tr>\n",
              "      <th>3</th>\n",
              "      <td>Новосибирск</td>\n",
              "      <td>2006</td>\n",
              "    </tr>\n",
              "    <tr>\n",
              "      <th>4</th>\n",
              "      <td>Алматы</td>\n",
              "      <td>1892</td>\n",
              "    </tr>\n",
              "  </tbody>\n",
              "</table>\n",
              "</div>"
            ],
            "text/plain": [
              "              area   cnt\n",
              "0           Москва  5333\n",
              "1  Санкт-Петербург  2851\n",
              "2            Минск  2112\n",
              "3      Новосибирск  2006\n",
              "4           Алматы  1892"
            ]
          },
          "metadata": {},
          "output_type": "display_data"
        }
      ],
      "source": [
        "areas_count = pd.read_sql_query(query_4_1, connection)\n",
        "display(areas_count)"
      ]
    },
    {
      "cell_type": "markdown",
      "id": "4266f0b6-1646-492a-88b4-2f6a46502135",
      "metadata": {
        "id": "4266f0b6-1646-492a-88b4-2f6a46502135"
      },
      "source": [
        "2. Напишите запрос, чтобы определить у какого количества вакансий заполнено хотя бы одно из двух полей с зарплатой."
      ]
    },
    {
      "cell_type": "code",
      "execution_count": 16,
      "id": "0c44b350-72eb-4d65-8b54-a1fc449ba9fd",
      "metadata": {
        "id": "0c44b350-72eb-4d65-8b54-a1fc449ba9fd"
      },
      "outputs": [],
      "source": [
        "query_4_2 = f'''\n",
        "    SELECT\n",
        "        COUNT(id)\n",
        "    FROM public.vacancies\n",
        "    WHERE\n",
        "        salary_from IS NOT NULL\n",
        "        OR salary_to IS NOT NULL\n",
        "'''"
      ]
    },
    {
      "cell_type": "code",
      "execution_count": 17,
      "id": "rhvwaMDkoWTi",
      "metadata": {
        "id": "rhvwaMDkoWTi"
      },
      "outputs": [
        {
          "name": "stdout",
          "output_type": "stream",
          "text": [
            "Количество вакансий, у которых хотя бы одно из полей зарплаты заполнено: 24073\n"
          ]
        }
      ],
      "source": [
        "not_null_salary = pd.read_sql_query(query_4_2, connection)\n",
        "print('Количество вакансий, у которых хотя бы одно из полей зарплаты заполнено:', not_null_salary.iloc[0, 0])"
      ]
    },
    {
      "cell_type": "markdown",
      "id": "635c4d5d-f323-4c66-b428-50a088120aa0",
      "metadata": {
        "id": "635c4d5d-f323-4c66-b428-50a088120aa0"
      },
      "source": [
        "3. Найдите средние значения для нижней и верхней границы зарплатной вилки. Округлите значения до целого."
      ]
    },
    {
      "cell_type": "code",
      "execution_count": 18,
      "id": "603cdbe4-0ec3-4106-8eaf-c73fcdd29165",
      "metadata": {
        "id": "603cdbe4-0ec3-4106-8eaf-c73fcdd29165"
      },
      "outputs": [],
      "source": [
        "query_4_3 = f'''\n",
        "    SELECT\n",
        "        AVG(salary_from) low,\n",
        "        AVG(salary_to) high\n",
        "    FROM public.vacancies\n",
        "'''"
      ]
    },
    {
      "cell_type": "code",
      "execution_count": 19,
      "id": "pswpAb66ovZZ",
      "metadata": {
        "id": "pswpAb66ovZZ"
      },
      "outputs": [
        {
          "name": "stdout",
          "output_type": "stream",
          "text": [
            "Среднее значение нижней границы зарплатной вилки: 71065\n",
            "Среднее значение верхней границы зарплатной вилки: 110537\n"
          ]
        }
      ],
      "source": [
        "avg_salary = pd.read_sql_query(query_4_3, connection)\n",
        "print(\n",
        "    'Среднее значение нижней границы зарплатной вилки: ', round(avg_salary.iloc[0, 0]), '\\n',\n",
        "    'Среднее значение верхней границы зарплатной вилки: ', round(avg_salary.iloc[0, 1]), '\\n',\n",
        "    sep='', end=''\n",
        ")"
      ]
    },
    {
      "cell_type": "markdown",
      "id": "f3fdaec9-5fd3-4260-9cf5-1d7406b628a5",
      "metadata": {
        "id": "f3fdaec9-5fd3-4260-9cf5-1d7406b628a5"
      },
      "source": [
        "4. Напишите запрос, который выведет количество вакансий для каждого сочетания типа рабочего графика (schedule) и типа трудоустройства (employment), используемого в вакансиях. Результат отсортируйте по убыванию количества.\n"
      ]
    },
    {
      "cell_type": "code",
      "execution_count": 20,
      "id": "1ea710ec-871b-431e-9462-c7d0fd87011b",
      "metadata": {
        "id": "1ea710ec-871b-431e-9462-c7d0fd87011b"
      },
      "outputs": [],
      "source": [
        "query_4_4 = f'''\n",
        "    SELECT\n",
        "        schedule,\n",
        "        employment,\n",
        "        COUNT(schedule)\n",
        "    FROM public.vacancies\n",
        "    GROUP BY schedule, employment\n",
        "    ORDER BY COUNT(schedule) DESC\n",
        "'''"
      ]
    },
    {
      "cell_type": "code",
      "execution_count": 21,
      "id": "lGUVqavdo4JQ",
      "metadata": {
        "id": "lGUVqavdo4JQ"
      },
      "outputs": [
        {
          "data": {
            "text/html": [
              "<div>\n",
              "<style scoped>\n",
              "    .dataframe tbody tr th:only-of-type {\n",
              "        vertical-align: middle;\n",
              "    }\n",
              "\n",
              "    .dataframe tbody tr th {\n",
              "        vertical-align: top;\n",
              "    }\n",
              "\n",
              "    .dataframe thead th {\n",
              "        text-align: right;\n",
              "    }\n",
              "</style>\n",
              "<table border=\"1\" class=\"dataframe\">\n",
              "  <thead>\n",
              "    <tr style=\"text-align: right;\">\n",
              "      <th></th>\n",
              "      <th>schedule</th>\n",
              "      <th>employment</th>\n",
              "      <th>count</th>\n",
              "    </tr>\n",
              "  </thead>\n",
              "  <tbody>\n",
              "    <tr>\n",
              "      <th>0</th>\n",
              "      <td>Полный день</td>\n",
              "      <td>Полная занятость</td>\n",
              "      <td>35367</td>\n",
              "    </tr>\n",
              "    <tr>\n",
              "      <th>1</th>\n",
              "      <td>Удаленная работа</td>\n",
              "      <td>Полная занятость</td>\n",
              "      <td>7802</td>\n",
              "    </tr>\n",
              "    <tr>\n",
              "      <th>2</th>\n",
              "      <td>Гибкий график</td>\n",
              "      <td>Полная занятость</td>\n",
              "      <td>1593</td>\n",
              "    </tr>\n",
              "    <tr>\n",
              "      <th>3</th>\n",
              "      <td>Удаленная работа</td>\n",
              "      <td>Частичная занятость</td>\n",
              "      <td>1312</td>\n",
              "    </tr>\n",
              "    <tr>\n",
              "      <th>4</th>\n",
              "      <td>Сменный график</td>\n",
              "      <td>Полная занятость</td>\n",
              "      <td>940</td>\n",
              "    </tr>\n",
              "    <tr>\n",
              "      <th>5</th>\n",
              "      <td>Полный день</td>\n",
              "      <td>Стажировка</td>\n",
              "      <td>569</td>\n",
              "    </tr>\n",
              "    <tr>\n",
              "      <th>6</th>\n",
              "      <td>Вахтовый метод</td>\n",
              "      <td>Полная занятость</td>\n",
              "      <td>367</td>\n",
              "    </tr>\n",
              "    <tr>\n",
              "      <th>7</th>\n",
              "      <td>Полный день</td>\n",
              "      <td>Частичная занятость</td>\n",
              "      <td>347</td>\n",
              "    </tr>\n",
              "    <tr>\n",
              "      <th>8</th>\n",
              "      <td>Гибкий график</td>\n",
              "      <td>Частичная занятость</td>\n",
              "      <td>312</td>\n",
              "    </tr>\n",
              "    <tr>\n",
              "      <th>9</th>\n",
              "      <td>Полный день</td>\n",
              "      <td>Проектная работа</td>\n",
              "      <td>141</td>\n",
              "    </tr>\n",
              "    <tr>\n",
              "      <th>10</th>\n",
              "      <td>Удаленная работа</td>\n",
              "      <td>Проектная работа</td>\n",
              "      <td>133</td>\n",
              "    </tr>\n",
              "    <tr>\n",
              "      <th>11</th>\n",
              "      <td>Гибкий график</td>\n",
              "      <td>Стажировка</td>\n",
              "      <td>116</td>\n",
              "    </tr>\n",
              "    <tr>\n",
              "      <th>12</th>\n",
              "      <td>Сменный график</td>\n",
              "      <td>Частичная занятость</td>\n",
              "      <td>101</td>\n",
              "    </tr>\n",
              "    <tr>\n",
              "      <th>13</th>\n",
              "      <td>Удаленная работа</td>\n",
              "      <td>Стажировка</td>\n",
              "      <td>64</td>\n",
              "    </tr>\n",
              "    <tr>\n",
              "      <th>14</th>\n",
              "      <td>Гибкий график</td>\n",
              "      <td>Проектная работа</td>\n",
              "      <td>18</td>\n",
              "    </tr>\n",
              "    <tr>\n",
              "      <th>15</th>\n",
              "      <td>Сменный график</td>\n",
              "      <td>Стажировка</td>\n",
              "      <td>12</td>\n",
              "    </tr>\n",
              "    <tr>\n",
              "      <th>16</th>\n",
              "      <td>Вахтовый метод</td>\n",
              "      <td>Проектная работа</td>\n",
              "      <td>2</td>\n",
              "    </tr>\n",
              "    <tr>\n",
              "      <th>17</th>\n",
              "      <td>Сменный график</td>\n",
              "      <td>Проектная работа</td>\n",
              "      <td>1</td>\n",
              "    </tr>\n",
              "  </tbody>\n",
              "</table>\n",
              "</div>"
            ],
            "text/plain": [
              "            schedule           employment  count\n",
              "0        Полный день     Полная занятость  35367\n",
              "1   Удаленная работа     Полная занятость   7802\n",
              "2      Гибкий график     Полная занятость   1593\n",
              "3   Удаленная работа  Частичная занятость   1312\n",
              "4     Сменный график     Полная занятость    940\n",
              "5        Полный день           Стажировка    569\n",
              "6     Вахтовый метод     Полная занятость    367\n",
              "7        Полный день  Частичная занятость    347\n",
              "8      Гибкий график  Частичная занятость    312\n",
              "9        Полный день     Проектная работа    141\n",
              "10  Удаленная работа     Проектная работа    133\n",
              "11     Гибкий график           Стажировка    116\n",
              "12    Сменный график  Частичная занятость    101\n",
              "13  Удаленная работа           Стажировка     64\n",
              "14     Гибкий график     Проектная работа     18\n",
              "15    Сменный график           Стажировка     12\n",
              "16    Вахтовый метод     Проектная работа      2\n",
              "17    Сменный график     Проектная работа      1"
            ]
          },
          "metadata": {},
          "output_type": "display_data"
        }
      ],
      "source": [
        "schedule_employment = pd.read_sql_query(query_4_4, connection)\n",
        "display(schedule_employment)"
      ]
    },
    {
      "cell_type": "markdown",
      "id": "0136ffee-0ead-4a6b-b608-61d1c753a438",
      "metadata": {
        "id": "0136ffee-0ead-4a6b-b608-61d1c753a438"
      },
      "source": [
        "5. Напишите запрос, выводящий значения поля Требуемый опыт работы (experience) в порядке возрастания количества вакансий, в которых указан данный вариант опыта. "
      ]
    },
    {
      "cell_type": "code",
      "execution_count": 22,
      "id": "5b3a8e79-f7ab-4008-b767-12aea3a205ea",
      "metadata": {
        "id": "5b3a8e79-f7ab-4008-b767-12aea3a205ea"
      },
      "outputs": [],
      "source": [
        "query_4_5 = f'''\n",
        "    SELECT\n",
        "        experience,\n",
        "        COUNT(experience)\n",
        "    FROM public.vacancies\n",
        "    GROUP BY experience\n",
        "    ORDER BY COUNT(experience)\n",
        "'''"
      ]
    },
    {
      "cell_type": "code",
      "execution_count": 23,
      "id": "3Is64Y-hpDpq",
      "metadata": {
        "id": "3Is64Y-hpDpq"
      },
      "outputs": [
        {
          "data": {
            "text/html": [
              "<div>\n",
              "<style scoped>\n",
              "    .dataframe tbody tr th:only-of-type {\n",
              "        vertical-align: middle;\n",
              "    }\n",
              "\n",
              "    .dataframe tbody tr th {\n",
              "        vertical-align: top;\n",
              "    }\n",
              "\n",
              "    .dataframe thead th {\n",
              "        text-align: right;\n",
              "    }\n",
              "</style>\n",
              "<table border=\"1\" class=\"dataframe\">\n",
              "  <thead>\n",
              "    <tr style=\"text-align: right;\">\n",
              "      <th></th>\n",
              "      <th>experience</th>\n",
              "      <th>count</th>\n",
              "    </tr>\n",
              "  </thead>\n",
              "  <tbody>\n",
              "    <tr>\n",
              "      <th>0</th>\n",
              "      <td>Более 6 лет</td>\n",
              "      <td>1337</td>\n",
              "    </tr>\n",
              "    <tr>\n",
              "      <th>1</th>\n",
              "      <td>Нет опыта</td>\n",
              "      <td>7197</td>\n",
              "    </tr>\n",
              "    <tr>\n",
              "      <th>2</th>\n",
              "      <td>От 3 до 6 лет</td>\n",
              "      <td>14511</td>\n",
              "    </tr>\n",
              "    <tr>\n",
              "      <th>3</th>\n",
              "      <td>От 1 года до 3 лет</td>\n",
              "      <td>26152</td>\n",
              "    </tr>\n",
              "  </tbody>\n",
              "</table>\n",
              "</div>"
            ],
            "text/plain": [
              "           experience  count\n",
              "0         Более 6 лет   1337\n",
              "1           Нет опыта   7197\n",
              "2       От 3 до 6 лет  14511\n",
              "3  От 1 года до 3 лет  26152"
            ]
          },
          "metadata": {},
          "output_type": "display_data"
        }
      ],
      "source": [
        "exp_rate = pd.read_sql_query(query_4_5, connection)\n",
        "display(exp_rate)"
      ]
    },
    {
      "cell_type": "markdown",
      "id": "oq2b7n1QpIka",
      "metadata": {
        "id": "oq2b7n1QpIka"
      },
      "source": [
        "***"
      ]
    },
    {
      "attachments": {},
      "cell_type": "markdown",
      "id": "5765a8c7",
      "metadata": {},
      "source": [
        "* Примерно в половине вакансий оба поля с зарплатой пустые. Если нам будет необходимо прогнозировать ЗП, то половина данных сразу же отсеивается, что может ухудшить точность прогнозируемой ЗП.\n",
        "* Средняя зарплата варьируется в диапазоне от 71 065 руб. до 110 537 руб.\n",
        "* Топ-2 самых непопулярных пар *график - занятость*:\n",
        "    1. Сменный график - Проектная работа\n",
        "    2. Вахтовый метод - Проектная работа"
      ]
    },
    {
      "cell_type": "markdown",
      "id": "7ea20ab6-04a7-40a0-adec-443a0e5a42c3",
      "metadata": {
        "id": "7ea20ab6-04a7-40a0-adec-443a0e5a42c3"
      },
      "source": [
        "# Юнит 5. Анализ работодателей"
      ]
    },
    {
      "cell_type": "markdown",
      "id": "968aed80-74ef-4ffb-b5bf-c65b84e9caea",
      "metadata": {
        "id": "968aed80-74ef-4ffb-b5bf-c65b84e9caea"
      },
      "source": [
        "1. Напишите запрос, который позволит узнать, какие работодатели находятся на первом и пятом месте по количеству вакансий."
      ]
    },
    {
      "cell_type": "code",
      "execution_count": 24,
      "id": "f2d62796-d400-4ec1-a675-88112739a50e",
      "metadata": {
        "id": "f2d62796-d400-4ec1-a675-88112739a50e"
      },
      "outputs": [],
      "source": [
        "n = 5\n",
        "query_5_1 = f'''\n",
        "    SELECT\n",
        "        e.name,\n",
        "        COUNT(e.name)\n",
        "    FROM\n",
        "        public.vacancies v\n",
        "        JOIN public.employers e ON e.id = v.employer_id\n",
        "    GROUP BY e.name\n",
        "    ORDER BY COUNT(e.name) DESC\n",
        "    LIMIT {n}\n",
        "'''"
      ]
    },
    {
      "cell_type": "code",
      "execution_count": 25,
      "id": "64tOMkAxqkQk",
      "metadata": {
        "id": "64tOMkAxqkQk"
      },
      "outputs": [
        {
          "data": {
            "text/html": [
              "<div>\n",
              "<style scoped>\n",
              "    .dataframe tbody tr th:only-of-type {\n",
              "        vertical-align: middle;\n",
              "    }\n",
              "\n",
              "    .dataframe tbody tr th {\n",
              "        vertical-align: top;\n",
              "    }\n",
              "\n",
              "    .dataframe thead th {\n",
              "        text-align: right;\n",
              "    }\n",
              "</style>\n",
              "<table border=\"1\" class=\"dataframe\">\n",
              "  <thead>\n",
              "    <tr style=\"text-align: right;\">\n",
              "      <th></th>\n",
              "      <th>name</th>\n",
              "      <th>count</th>\n",
              "    </tr>\n",
              "  </thead>\n",
              "  <tbody>\n",
              "    <tr>\n",
              "      <th>0</th>\n",
              "      <td>Яндекс</td>\n",
              "      <td>1933</td>\n",
              "    </tr>\n",
              "    <tr>\n",
              "      <th>1</th>\n",
              "      <td>Ростелеком</td>\n",
              "      <td>491</td>\n",
              "    </tr>\n",
              "    <tr>\n",
              "      <th>2</th>\n",
              "      <td>Тинькофф</td>\n",
              "      <td>444</td>\n",
              "    </tr>\n",
              "    <tr>\n",
              "      <th>3</th>\n",
              "      <td>СБЕР</td>\n",
              "      <td>428</td>\n",
              "    </tr>\n",
              "    <tr>\n",
              "      <th>4</th>\n",
              "      <td>Газпром нефть</td>\n",
              "      <td>331</td>\n",
              "    </tr>\n",
              "  </tbody>\n",
              "</table>\n",
              "</div>"
            ],
            "text/plain": [
              "            name  count\n",
              "0         Яндекс   1933\n",
              "1     Ростелеком    491\n",
              "2       Тинькофф    444\n",
              "3           СБЕР    428\n",
              "4  Газпром нефть    331"
            ]
          },
          "metadata": {},
          "output_type": "display_data"
        }
      ],
      "source": [
        "top_five_employers = pd.read_sql_query(query_5_1, connection)\n",
        "display(top_five_employers)"
      ]
    },
    {
      "cell_type": "markdown",
      "id": "68377cfc-b378-43dc-ab7d-1195abf2c515",
      "metadata": {
        "id": "68377cfc-b378-43dc-ab7d-1195abf2c515"
      },
      "source": [
        "2. Напишите запрос, который для каждого региона выведет количество работодателей и вакансий в нём.\n",
        "Среди регионов, в которых нет вакансий, найдите тот, в котором наибольшее количество работодателей.\n"
      ]
    },
    {
      "cell_type": "code",
      "execution_count": 26,
      "id": "dd7df27a-e3e8-412e-a21a-5d389b71e891",
      "metadata": {
        "id": "dd7df27a-e3e8-412e-a21a-5d389b71e891"
      },
      "outputs": [],
      "source": [
        "query_5_2 = f'''\n",
        "    SELECT\n",
        "        a.name,\n",
        "        COUNT(v.id) vacancies,\n",
        "        COUNT(e.id) employers\n",
        "    FROM\n",
        "        public.areas a\n",
        "        LEFT JOIN public.employers e ON e.area = a.id\n",
        "        LEFT JOIN public.vacancies v ON v.area_id = a.id\n",
        "    WHERE v.id IS NULL\n",
        "    GROUP BY a.name\n",
        "    ORDER BY employers DESC\n",
        "'''"
      ]
    },
    {
      "cell_type": "code",
      "execution_count": 27,
      "id": "x1ikWbydrbf6",
      "metadata": {
        "id": "x1ikWbydrbf6"
      },
      "outputs": [
        {
          "data": {
            "text/html": [
              "<div>\n",
              "<style scoped>\n",
              "    .dataframe tbody tr th:only-of-type {\n",
              "        vertical-align: middle;\n",
              "    }\n",
              "\n",
              "    .dataframe tbody tr th {\n",
              "        vertical-align: top;\n",
              "    }\n",
              "\n",
              "    .dataframe thead th {\n",
              "        text-align: right;\n",
              "    }\n",
              "</style>\n",
              "<table border=\"1\" class=\"dataframe\">\n",
              "  <thead>\n",
              "    <tr style=\"text-align: right;\">\n",
              "      <th></th>\n",
              "      <th>name</th>\n",
              "      <th>vacancies</th>\n",
              "      <th>employers</th>\n",
              "    </tr>\n",
              "  </thead>\n",
              "  <tbody>\n",
              "    <tr>\n",
              "      <th>0</th>\n",
              "      <td>Россия</td>\n",
              "      <td>0</td>\n",
              "      <td>410</td>\n",
              "    </tr>\n",
              "    <tr>\n",
              "      <th>1</th>\n",
              "      <td>Казахстан</td>\n",
              "      <td>0</td>\n",
              "      <td>207</td>\n",
              "    </tr>\n",
              "    <tr>\n",
              "      <th>2</th>\n",
              "      <td>Московская область</td>\n",
              "      <td>0</td>\n",
              "      <td>75</td>\n",
              "    </tr>\n",
              "    <tr>\n",
              "      <th>3</th>\n",
              "      <td>Краснодарский край</td>\n",
              "      <td>0</td>\n",
              "      <td>19</td>\n",
              "    </tr>\n",
              "    <tr>\n",
              "      <th>4</th>\n",
              "      <td>Беларусь</td>\n",
              "      <td>0</td>\n",
              "      <td>18</td>\n",
              "    </tr>\n",
              "    <tr>\n",
              "      <th>...</th>\n",
              "      <td>...</td>\n",
              "      <td>...</td>\n",
              "      <td>...</td>\n",
              "    </tr>\n",
              "    <tr>\n",
              "      <th>588</th>\n",
              "      <td>Кувандык</td>\n",
              "      <td>0</td>\n",
              "      <td>0</td>\n",
              "    </tr>\n",
              "    <tr>\n",
              "      <th>589</th>\n",
              "      <td>Куйбышев</td>\n",
              "      <td>0</td>\n",
              "      <td>0</td>\n",
              "    </tr>\n",
              "    <tr>\n",
              "      <th>590</th>\n",
              "      <td>Куйбышево (Ростовская область)</td>\n",
              "      <td>0</td>\n",
              "      <td>0</td>\n",
              "    </tr>\n",
              "    <tr>\n",
              "      <th>591</th>\n",
              "      <td>Култаево</td>\n",
              "      <td>0</td>\n",
              "      <td>0</td>\n",
              "    </tr>\n",
              "    <tr>\n",
              "      <th>592</th>\n",
              "      <td>Кульсары</td>\n",
              "      <td>0</td>\n",
              "      <td>0</td>\n",
              "    </tr>\n",
              "  </tbody>\n",
              "</table>\n",
              "<p>593 rows × 3 columns</p>\n",
              "</div>"
            ],
            "text/plain": [
              "                               name  vacancies  employers\n",
              "0                            Россия          0        410\n",
              "1                         Казахстан          0        207\n",
              "2                Московская область          0         75\n",
              "3                Краснодарский край          0         19\n",
              "4                          Беларусь          0         18\n",
              "..                              ...        ...        ...\n",
              "588                        Кувандык          0          0\n",
              "589                        Куйбышев          0          0\n",
              "590  Куйбышево (Ростовская область)          0          0\n",
              "591                        Култаево          0          0\n",
              "592                        Кульсары          0          0\n",
              "\n",
              "[593 rows x 3 columns]"
            ]
          },
          "metadata": {},
          "output_type": "display_data"
        }
      ],
      "source": [
        "areas_without_vacancies = pd.read_sql_query(query_5_2, connection)\n",
        "display(areas_without_vacancies)"
      ]
    },
    {
      "cell_type": "markdown",
      "id": "f2fe0acb-ab1a-4e15-9326-2560e22d73c1",
      "metadata": {
        "id": "f2fe0acb-ab1a-4e15-9326-2560e22d73c1"
      },
      "source": [
        "3. Для каждого работодателя посчитайте количество регионов, в которых он публикует свои вакансии. Отсортируйте результат по убыванию количества.\n"
      ]
    },
    {
      "cell_type": "code",
      "execution_count": 28,
      "id": "6271f8ad-bd2e-4196-ae4a-5b39c4c1010e",
      "metadata": {
        "id": "6271f8ad-bd2e-4196-ae4a-5b39c4c1010e"
      },
      "outputs": [],
      "source": [
        "query_5_3 = f'''\n",
        "    SELECT\n",
        "        e.name,\n",
        "        COUNT(DISTINCT v.area_id)\n",
        "    FROM\n",
        "        public.employers e\n",
        "        JOIN public.vacancies v ON v.employer_id = e.id\n",
        "    GROUP BY e.name\n",
        "    ORDER BY count DESC \n",
        "'''"
      ]
    },
    {
      "cell_type": "code",
      "execution_count": 29,
      "id": "1EIvX3HasH4F",
      "metadata": {
        "id": "1EIvX3HasH4F"
      },
      "outputs": [
        {
          "data": {
            "text/html": [
              "<div>\n",
              "<style scoped>\n",
              "    .dataframe tbody tr th:only-of-type {\n",
              "        vertical-align: middle;\n",
              "    }\n",
              "\n",
              "    .dataframe tbody tr th {\n",
              "        vertical-align: top;\n",
              "    }\n",
              "\n",
              "    .dataframe thead th {\n",
              "        text-align: right;\n",
              "    }\n",
              "</style>\n",
              "<table border=\"1\" class=\"dataframe\">\n",
              "  <thead>\n",
              "    <tr style=\"text-align: right;\">\n",
              "      <th></th>\n",
              "      <th>name</th>\n",
              "      <th>count</th>\n",
              "    </tr>\n",
              "  </thead>\n",
              "  <tbody>\n",
              "    <tr>\n",
              "      <th>0</th>\n",
              "      <td>Яндекс</td>\n",
              "      <td>181</td>\n",
              "    </tr>\n",
              "    <tr>\n",
              "      <th>1</th>\n",
              "      <td>Ростелеком</td>\n",
              "      <td>152</td>\n",
              "    </tr>\n",
              "    <tr>\n",
              "      <th>2</th>\n",
              "      <td>Спецремонт</td>\n",
              "      <td>116</td>\n",
              "    </tr>\n",
              "    <tr>\n",
              "      <th>3</th>\n",
              "      <td>Поляков Денис Иванович</td>\n",
              "      <td>88</td>\n",
              "    </tr>\n",
              "    <tr>\n",
              "      <th>4</th>\n",
              "      <td>ООО ЕФИН</td>\n",
              "      <td>71</td>\n",
              "    </tr>\n",
              "    <tr>\n",
              "      <th>...</th>\n",
              "      <td>...</td>\n",
              "      <td>...</td>\n",
              "    </tr>\n",
              "    <tr>\n",
              "      <th>14761</th>\n",
              "      <td>UniSol</td>\n",
              "      <td>1</td>\n",
              "    </tr>\n",
              "    <tr>\n",
              "      <th>14762</th>\n",
              "      <td>UNISTORY LLC</td>\n",
              "      <td>1</td>\n",
              "    </tr>\n",
              "    <tr>\n",
              "      <th>14763</th>\n",
              "      <td>UNIT6</td>\n",
              "      <td>1</td>\n",
              "    </tr>\n",
              "    <tr>\n",
              "      <th>14764</th>\n",
              "      <td>United Distribution</td>\n",
              "      <td>1</td>\n",
              "    </tr>\n",
              "    <tr>\n",
              "      <th>14765</th>\n",
              "      <td>UNITEL LLC</td>\n",
              "      <td>1</td>\n",
              "    </tr>\n",
              "  </tbody>\n",
              "</table>\n",
              "<p>14766 rows × 2 columns</p>\n",
              "</div>"
            ],
            "text/plain": [
              "                         name  count\n",
              "0                      Яндекс    181\n",
              "1                  Ростелеком    152\n",
              "2                  Спецремонт    116\n",
              "3      Поляков Денис Иванович     88\n",
              "4                   ООО ЕФИН      71\n",
              "...                       ...    ...\n",
              "14761                  UniSol      1\n",
              "14762            UNISTORY LLC      1\n",
              "14763                   UNIT6      1\n",
              "14764     United Distribution      1\n",
              "14765              UNITEL LLC      1\n",
              "\n",
              "[14766 rows x 2 columns]"
            ]
          },
          "metadata": {},
          "output_type": "display_data"
        }
      ],
      "source": [
        "employer_areas_count = pd.read_sql_query(query_5_3, connection)\n",
        "display(employer_areas_count)"
      ]
    },
    {
      "cell_type": "markdown",
      "id": "eab2206d-d95b-468b-8e5f-34381abf0ce7",
      "metadata": {
        "id": "eab2206d-d95b-468b-8e5f-34381abf0ce7"
      },
      "source": [
        "4. Напишите запрос для подсчёта количества работодателей, у которых не указана сфера деятельности. "
      ]
    },
    {
      "cell_type": "code",
      "execution_count": 30,
      "id": "80defb23-bfb1-4a18-8be6-bf36aa7165d5",
      "metadata": {
        "id": "80defb23-bfb1-4a18-8be6-bf36aa7165d5"
      },
      "outputs": [],
      "source": [
        "query_5_4 = f'''\n",
        "    SELECT\n",
        "        COUNT(*)\n",
        "    FROM\n",
        "        public.employers e\n",
        "        LEFT JOIN public.employers_industries ei ON ei.employer_id = e.id\n",
        "        LEFT JOIN public.industries i ON ei.industry_id = i.id\n",
        "    WHERE i.name IS NULL\n",
        "'''"
      ]
    },
    {
      "cell_type": "code",
      "execution_count": 31,
      "id": "Dp_yCx6ysQSu",
      "metadata": {
        "id": "Dp_yCx6ysQSu"
      },
      "outputs": [
        {
          "name": "stdout",
          "output_type": "stream",
          "text": [
            "Количество работодателей, у которых не указана сфера деятельности: 8419\n"
          ]
        }
      ],
      "source": [
        "employer_null_industries = pd.read_sql_query(query_5_4, connection)\n",
        "print('Количество работодателей, у которых не указана сфера деятельности:', employer_null_industries.iloc[0, 0])"
      ]
    },
    {
      "cell_type": "markdown",
      "id": "0112af31-f6b0-4e3b-82ab-71296e752e5e",
      "metadata": {
        "id": "0112af31-f6b0-4e3b-82ab-71296e752e5e"
      },
      "source": [
        "5. Напишите запрос, чтобы узнать название компании, находящейся на третьем месте в алфавитном списке (по названию) компаний, у которых указано четыре сферы деятельности. "
      ]
    },
    {
      "cell_type": "code",
      "execution_count": 32,
      "id": "973b0cfc-a972-470a-8b4a-68744ef220c4",
      "metadata": {
        "id": "973b0cfc-a972-470a-8b4a-68744ef220c4"
      },
      "outputs": [],
      "source": [
        "n = 3\n",
        "query_5_5 = f'''\n",
        "    SELECT\n",
        "        e.name,\n",
        "        COUNT(i.id)\n",
        "    FROM\n",
        "        public.employers e\n",
        "        LEFT JOIN public.employers_industries ei ON ei.employer_id = e.id\n",
        "        LEFT JOIN public.industries i ON ei.industry_id = i.id\n",
        "    WHERE i.name IS NOT NULL\n",
        "    GROUP BY e.name\n",
        "    HAVING COUNT(i.id) = 4\n",
        "    ORDER BY name\n",
        "    LIMIT {n}\n",
        "'''"
      ]
    },
    {
      "cell_type": "code",
      "execution_count": 33,
      "id": "xsPtpp8EsaED",
      "metadata": {
        "id": "xsPtpp8EsaED"
      },
      "outputs": [
        {
          "name": "stdout",
          "output_type": "stream",
          "text": [
            "Первые 3 компании(в алфавитном порядке), у которых указано 4 сферы деятельности:\n"
          ]
        },
        {
          "data": {
            "text/html": [
              "<div>\n",
              "<style scoped>\n",
              "    .dataframe tbody tr th:only-of-type {\n",
              "        vertical-align: middle;\n",
              "    }\n",
              "\n",
              "    .dataframe tbody tr th {\n",
              "        vertical-align: top;\n",
              "    }\n",
              "\n",
              "    .dataframe thead th {\n",
              "        text-align: right;\n",
              "    }\n",
              "</style>\n",
              "<table border=\"1\" class=\"dataframe\">\n",
              "  <thead>\n",
              "    <tr style=\"text-align: right;\">\n",
              "      <th></th>\n",
              "      <th>name</th>\n",
              "      <th>count</th>\n",
              "    </tr>\n",
              "  </thead>\n",
              "  <tbody>\n",
              "    <tr>\n",
              "      <th>0</th>\n",
              "      <td>101 Интернет</td>\n",
              "      <td>4</td>\n",
              "    </tr>\n",
              "    <tr>\n",
              "      <th>1</th>\n",
              "      <td>21vek.by</td>\n",
              "      <td>4</td>\n",
              "    </tr>\n",
              "    <tr>\n",
              "      <th>2</th>\n",
              "      <td>2ГИС</td>\n",
              "      <td>4</td>\n",
              "    </tr>\n",
              "  </tbody>\n",
              "</table>\n",
              "</div>"
            ],
            "text/plain": [
              "           name  count\n",
              "0  101 Интернет      4\n",
              "1      21vek.by      4\n",
              "2          2ГИС      4"
            ]
          },
          "metadata": {},
          "output_type": "display_data"
        }
      ],
      "source": [
        "employer_four_industries = pd.read_sql_query(query_5_5, connection)\n",
        "print('Первые 3 компании(в алфавитном порядке), у которых указано 4 сферы деятельности:')\n",
        "display(employer_four_industries)"
      ]
    },
    {
      "cell_type": "markdown",
      "id": "3bfcfdaf-755d-4d2b-8ed8-326201dc07ab",
      "metadata": {
        "id": "3bfcfdaf-755d-4d2b-8ed8-326201dc07ab"
      },
      "source": [
        "6. С помощью запроса выясните, у какого количества работодателей в качестве сферы деятельности указана Разработка программного обеспечения.\n"
      ]
    },
    {
      "cell_type": "code",
      "execution_count": 34,
      "id": "ad3f270f-2991-47eb-929b-e8f88a55b0d1",
      "metadata": {
        "id": "ad3f270f-2991-47eb-929b-e8f88a55b0d1"
      },
      "outputs": [],
      "source": [
        "query_5_6 = f'''\n",
        "    SELECT\n",
        "        COUNT(*)\n",
        "    FROM\n",
        "        public.employers e\n",
        "        JOIN public.employers_industries ei ON e.id = ei.employer_id\n",
        "        JOIN public.industries i ON i.id = ei.industry_id\n",
        "    WHERE i.name = 'Разработка программного обеспечения'\n",
        "'''"
      ]
    },
    {
      "cell_type": "code",
      "execution_count": 35,
      "id": "H72qxWM0shPR",
      "metadata": {
        "id": "H72qxWM0shPR"
      },
      "outputs": [
        {
          "name": "stdout",
          "output_type": "stream",
          "text": [
            "Количество компаний, занимающихся разработкой ПО: 3553\n"
          ]
        }
      ],
      "source": [
        "employers_devs = pd.read_sql_query(query_5_6, connection)\n",
        "print('Количество компаний, занимающихся разработкой ПО:', employers_devs.iloc[0, 0])"
      ]
    },
    {
      "cell_type": "markdown",
      "id": "7b02bb86-0546-40fb-94a4-242f050a5c57",
      "metadata": {
        "id": "7b02bb86-0546-40fb-94a4-242f050a5c57"
      },
      "source": [
        "7. Для компании «Яндекс» выведите список регионов-миллионников, в которых представлены вакансии компании, вместе с количеством вакансий в этих регионах. Также добавьте строку Total с общим количеством вакансий компании. Результат отсортируйте по возрастанию количества.\n",
        "\n",
        "Список городов-милионников надо взять [отсюда](https://ru.wikipedia.org/wiki/%D0%93%D0%BE%D1%80%D0%BE%D0%B4%D0%B0-%D0%BC%D0%B8%D0%BB%D0%BB%D0%B8%D0%BE%D0%BD%D0%B5%D1%80%D1%8B_%D0%A0%D0%BE%D1%81%D1%81%D0%B8%D0%B8). \n",
        "\n",
        "Если возникнут трудности с этим задание посмотрите материалы модуля  PYTHON-17. Как получать данные из веб-источников и API. "
      ]
    },
    {
      "cell_type": "code",
      "execution_count": 36,
      "id": "ZdfrL6gIs1Pn",
      "metadata": {
        "id": "ZdfrL6gIs1Pn"
      },
      "outputs": [],
      "source": [
        "cities = []\n",
        "url = 'https://ru.wikipedia.org/wiki/%D0%93%D0%BE%D1%80%D0%BE%D0%B4%D0%B0-%D0%BC%D0%B8%D0%BB%D0%BB%D0%B8%D0%BE%D0%BD%D0%B5%D1%80%D1%8B_%D0%A0%D0%BE%D1%81%D1%81%D0%B8%D0%B8'\n",
        "response = requests.get(url)\n",
        "page = BeautifulSoup(response.text, 'html.parser')\n",
        "\n",
        "# Find a first table on page with class 'standard sortable' to get table with necessary cities\n",
        "table = page.find('table', class_='standard sortable')\n",
        "\n",
        "# Iterate table rows\n",
        "for x in table.find_all('tr'):\n",
        "    # Add all unpacked text from tag 'a' to list\n",
        "    cities.append(x.find('a').text)\n",
        "\n",
        "# Make a tuple from list to add in SQL query\n",
        "# 1-st element is column name which we don't need\n",
        "cities = tuple(cities[1:])"
      ]
    },
    {
      "cell_type": "code",
      "execution_count": 37,
      "id": "5a0e32a4-e68a-4365-8a39-2fe24c542c36",
      "metadata": {
        "id": "5a0e32a4-e68a-4365-8a39-2fe24c542c36"
      },
      "outputs": [],
      "source": [
        "employer_vacancy_area = '''\n",
        "    public.employers e\n",
        "    LEFT JOIN public.vacancies v ON e.id = v.employer_id\n",
        "    LEFT JOIN public.areas a ON a.id = v.area_id\n",
        "'''\n",
        "yandex_filter = f'''\n",
        "    e.name = 'Яндекс' AND a.name IN {cities}\n",
        "'''\n",
        "query_5_7 = f'''\n",
        "    SELECT\n",
        "        a.name,\n",
        "        COUNT(a.name) cnt\n",
        "    FROM {employer_vacancy_area}\n",
        "    WHERE {yandex_filter}\n",
        "    GROUP BY a.name\n",
        "    \n",
        "    UNION ALL\n",
        "    \n",
        "    SELECT\n",
        "        'total', count(*)\n",
        "    FROM {employer_vacancy_area}\n",
        "    WHERE {yandex_filter}\n",
        "    \n",
        "    ORDER BY cnt\n",
        "'''"
      ]
    },
    {
      "cell_type": "code",
      "execution_count": 38,
      "id": "ttPhiO1rsvPq",
      "metadata": {
        "id": "ttPhiO1rsvPq"
      },
      "outputs": [
        {
          "data": {
            "text/html": [
              "<div>\n",
              "<style scoped>\n",
              "    .dataframe tbody tr th:only-of-type {\n",
              "        vertical-align: middle;\n",
              "    }\n",
              "\n",
              "    .dataframe tbody tr th {\n",
              "        vertical-align: top;\n",
              "    }\n",
              "\n",
              "    .dataframe thead th {\n",
              "        text-align: right;\n",
              "    }\n",
              "</style>\n",
              "<table border=\"1\" class=\"dataframe\">\n",
              "  <thead>\n",
              "    <tr style=\"text-align: right;\">\n",
              "      <th></th>\n",
              "      <th>name</th>\n",
              "      <th>cnt</th>\n",
              "    </tr>\n",
              "  </thead>\n",
              "  <tbody>\n",
              "    <tr>\n",
              "      <th>0</th>\n",
              "      <td>Омск</td>\n",
              "      <td>21</td>\n",
              "    </tr>\n",
              "    <tr>\n",
              "      <th>1</th>\n",
              "      <td>Челябинск</td>\n",
              "      <td>22</td>\n",
              "    </tr>\n",
              "    <tr>\n",
              "      <th>2</th>\n",
              "      <td>Красноярск</td>\n",
              "      <td>23</td>\n",
              "    </tr>\n",
              "    <tr>\n",
              "      <th>3</th>\n",
              "      <td>Волгоград</td>\n",
              "      <td>24</td>\n",
              "    </tr>\n",
              "    <tr>\n",
              "      <th>4</th>\n",
              "      <td>Пермь</td>\n",
              "      <td>25</td>\n",
              "    </tr>\n",
              "    <tr>\n",
              "      <th>5</th>\n",
              "      <td>Казань</td>\n",
              "      <td>25</td>\n",
              "    </tr>\n",
              "    <tr>\n",
              "      <th>6</th>\n",
              "      <td>Ростов-на-Дону</td>\n",
              "      <td>25</td>\n",
              "    </tr>\n",
              "    <tr>\n",
              "      <th>7</th>\n",
              "      <td>Уфа</td>\n",
              "      <td>26</td>\n",
              "    </tr>\n",
              "    <tr>\n",
              "      <th>8</th>\n",
              "      <td>Самара</td>\n",
              "      <td>26</td>\n",
              "    </tr>\n",
              "    <tr>\n",
              "      <th>9</th>\n",
              "      <td>Краснодар</td>\n",
              "      <td>30</td>\n",
              "    </tr>\n",
              "    <tr>\n",
              "      <th>10</th>\n",
              "      <td>Воронеж</td>\n",
              "      <td>32</td>\n",
              "    </tr>\n",
              "    <tr>\n",
              "      <th>11</th>\n",
              "      <td>Новосибирск</td>\n",
              "      <td>35</td>\n",
              "    </tr>\n",
              "    <tr>\n",
              "      <th>12</th>\n",
              "      <td>Нижний Новгород</td>\n",
              "      <td>36</td>\n",
              "    </tr>\n",
              "    <tr>\n",
              "      <th>13</th>\n",
              "      <td>Екатеринбург</td>\n",
              "      <td>39</td>\n",
              "    </tr>\n",
              "    <tr>\n",
              "      <th>14</th>\n",
              "      <td>Санкт-Петербург</td>\n",
              "      <td>42</td>\n",
              "    </tr>\n",
              "    <tr>\n",
              "      <th>15</th>\n",
              "      <td>Москва</td>\n",
              "      <td>54</td>\n",
              "    </tr>\n",
              "    <tr>\n",
              "      <th>16</th>\n",
              "      <td>total</td>\n",
              "      <td>485</td>\n",
              "    </tr>\n",
              "  </tbody>\n",
              "</table>\n",
              "</div>"
            ],
            "text/plain": [
              "               name  cnt\n",
              "0              Омск   21\n",
              "1         Челябинск   22\n",
              "2        Красноярск   23\n",
              "3         Волгоград   24\n",
              "4             Пермь   25\n",
              "5            Казань   25\n",
              "6    Ростов-на-Дону   25\n",
              "7               Уфа   26\n",
              "8            Самара   26\n",
              "9         Краснодар   30\n",
              "10          Воронеж   32\n",
              "11      Новосибирск   35\n",
              "12  Нижний Новгород   36\n",
              "13     Екатеринбург   39\n",
              "14  Санкт-Петербург   42\n",
              "15           Москва   54\n",
              "16            total  485"
            ]
          },
          "metadata": {},
          "output_type": "display_data"
        }
      ],
      "source": [
        "yandex_top = pd.read_sql_query(query_5_7, connection)\n",
        "display(yandex_top)"
      ]
    },
    {
      "cell_type": "markdown",
      "id": "04966e40-3bc3-4dc8-9ba2-e80580ce3abc",
      "metadata": {
        "id": "04966e40-3bc3-4dc8-9ba2-e80580ce3abc"
      },
      "source": [
        "***"
      ]
    },
    {
      "attachments": {},
      "cell_type": "markdown",
      "id": "70af0860",
      "metadata": {},
      "source": [
        "* Топ-1 работодатель по количеству вакансий и разнообразию регионов - Яндекс\n",
        "* 36% работодателей не указывают сферы деятельности.\n",
        "* 15% работодателей занимаются разработкой ПО."
      ]
    },
    {
      "cell_type": "markdown",
      "id": "b1ef156a-efcb-49ce-bb23-90763e7f35b2",
      "metadata": {
        "id": "b1ef156a-efcb-49ce-bb23-90763e7f35b2",
        "tags": []
      },
      "source": [
        "# Юнит 6. Предметный анализ"
      ]
    },
    {
      "cell_type": "markdown",
      "id": "b9cd50a0-992d-4988-8463-2b2b1c4629b4",
      "metadata": {
        "id": "b9cd50a0-992d-4988-8463-2b2b1c4629b4"
      },
      "source": [
        "1. Сколько вакансий имеет отношение к данным?\n",
        "\n",
        "Считаем, что вакансия имеет отношение к данным, если в её названии содержатся слова 'data' или 'данн'.\n",
        "\n",
        "*Подсказка: Обратите внимание, что названия вакансий могут быть написаны в любом регистре.* \n"
      ]
    },
    {
      "cell_type": "code",
      "execution_count": 39,
      "id": "54ab0e50-c0f1-47cc-a54b-bc5c8bc363f9",
      "metadata": {
        "id": "54ab0e50-c0f1-47cc-a54b-bc5c8bc363f9"
      },
      "outputs": [],
      "source": [
        "query_6_1 = f'''\n",
        "    SELECT\n",
        "        COUNT(id)\n",
        "    FROM\n",
        "        public.vacancies\n",
        "    WHERE\n",
        "        lower(name) LIKE '%data%'\n",
        "        OR lower(name) LIKE '%данн%'\n",
        "'''"
      ]
    },
    {
      "cell_type": "code",
      "execution_count": 40,
      "id": "9F1meAqsuUjd",
      "metadata": {
        "id": "9F1meAqsuUjd"
      },
      "outputs": [
        {
          "name": "stdout",
          "output_type": "stream",
          "text": [
            "Количество вакансий, имеющих отношение к данным: 1771\n"
          ]
        }
      ],
      "source": [
        "data_vacancies = pd.read_sql_query(query_6_1, connection)\n",
        "print('Количество вакансий, имеющих отношение к данным:', data_vacancies.iloc[0, 0])"
      ]
    },
    {
      "cell_type": "markdown",
      "id": "4dea20cb-a36b-474a-a0b9-e08e8e3857a5",
      "metadata": {
        "id": "4dea20cb-a36b-474a-a0b9-e08e8e3857a5"
      },
      "source": [
        "2. Сколько есть подходящих вакансий для начинающего дата-сайентиста? \n",
        "Будем считать вакансиями для дата-сайентистов такие, в названии которых есть хотя бы одно из следующих сочетаний:\n",
        "* 'data scientist'\n",
        "* 'data science'\n",
        "* 'исследователь данных'\n",
        "* 'ML' (здесь не нужно брать вакансии по HTML)\n",
        "* 'machine learning'\n",
        "* 'машинн%обучен%'\n",
        "\n",
        "** В следующих заданиях мы продолжим работать с вакансиями по этому условию.*\n",
        "\n",
        "Считаем вакансиями для специалистов уровня Junior следующие:\n",
        "* в названии есть слово 'junior' *или*\n",
        "* требуемый опыт — Нет опыта *или*\n",
        "* тип трудоустройства — Стажировка.\n",
        " "
      ]
    },
    {
      "cell_type": "code",
      "execution_count": 41,
      "id": "9c61b3c0-bb66-46c9-ae1e-81d3f5752b4a",
      "metadata": {
        "id": "9c61b3c0-bb66-46c9-ae1e-81d3f5752b4a"
      },
      "outputs": [],
      "source": [
        "ds_filter = '''\n",
        "    (lower(vacancies.name) LIKE '%data scientist%'\n",
        "    OR lower(vacancies.name) LIKE '%data science%'\n",
        "    OR lower(vacancies.name) LIKE '%исследователь данных%'\n",
        "    OR (vacancies.name LIKE '%ML%' and lower(vacancies.name) NOT LIKE '%html%')\n",
        "    OR lower(vacancies.name) LIKE '%machine learning%'\n",
        "    OR lower(vacancies.name) LIKE '%машинн%обучен%')\n",
        "'''\n",
        "query_6_2 = f'''\n",
        "    SELECT\n",
        "        COUNT(id)\n",
        "    FROM\n",
        "        public.vacancies\n",
        "    WHERE\n",
        "        {ds_filter}\n",
        "        AND\n",
        "        (lower(name) LIKE '%junior%'\n",
        "        OR lower(experience) LIKE '%нет опыта%'\n",
        "        OR lower(employment) LIKE '%стажировка%')\n",
        "'''"
      ]
    },
    {
      "cell_type": "code",
      "execution_count": 42,
      "id": "ZNM-LLYuu1dj",
      "metadata": {
        "id": "ZNM-LLYuu1dj"
      },
      "outputs": [
        {
          "name": "stdout",
          "output_type": "stream",
          "text": [
            "Количество подходящих вакансий для начинающего дата-сайентиста: 51\n"
          ]
        }
      ],
      "source": [
        "ds_vacancies_junior = pd.read_sql_query(query_6_2, connection)\n",
        "print('Количество подходящих вакансий для начинающего дата-сайентиста:', ds_vacancies_junior.iloc[0, 0])"
      ]
    },
    {
      "cell_type": "markdown",
      "id": "eedceb80-c5ca-480e-b27a-278dfb8b4438",
      "metadata": {
        "id": "eedceb80-c5ca-480e-b27a-278dfb8b4438"
      },
      "source": [
        "3. Сколько есть вакансий для DS, в которых в качестве ключевого навыка указан SQL или postgres?\n",
        "\n",
        "** Критерии для отнесения вакансии к DS указаны в предыдущем задании.*"
      ]
    },
    {
      "cell_type": "code",
      "execution_count": 43,
      "id": "69621713-0cc5-4f1b-a1d7-bb144fa6148c",
      "metadata": {
        "id": "69621713-0cc5-4f1b-a1d7-bb144fa6148c"
      },
      "outputs": [],
      "source": [
        "query_6_3 = f'''\n",
        "    SELECT\n",
        "        COUNT(id)\n",
        "    FROM\n",
        "        public.vacancies\n",
        "    WHERE\n",
        "        {ds_filter}\n",
        "        AND\n",
        "        (key_skills LIKE '%SQL%'\n",
        "        OR lower(key_skills) LIKE '%postgres%')\n",
        "'''"
      ]
    },
    {
      "cell_type": "code",
      "execution_count": 44,
      "id": "alA8WEAAvGdf",
      "metadata": {
        "id": "alA8WEAAvGdf"
      },
      "outputs": [
        {
          "name": "stdout",
          "output_type": "stream",
          "text": [
            "Количество вакансий, в которых ключевым навыком является SQL или postgres: 201\n"
          ]
        }
      ],
      "source": [
        "ds_sql = pd.read_sql_query(query_6_3, connection)\n",
        "print('Количество вакансий, в которых ключевым навыком является SQL или postgres:', ds_sql.iloc[0, 0])"
      ]
    },
    {
      "cell_type": "markdown",
      "id": "1be1e9c6-37cf-4a5f-bfeb-04cab799dc80",
      "metadata": {
        "id": "1be1e9c6-37cf-4a5f-bfeb-04cab799dc80"
      },
      "source": [
        "4. Проверьте, насколько популярен Python в требованиях работодателей к DS.Для этого вычислите количество вакансий, в которых в качестве ключевого навыка указан Python.\n",
        "\n",
        "** Это можно сделать помощью запроса, аналогичного предыдущему.*"
      ]
    },
    {
      "cell_type": "code",
      "execution_count": 45,
      "id": "0036a355-9ccf-4564-8b01-73d8194297e7",
      "metadata": {
        "id": "0036a355-9ccf-4564-8b01-73d8194297e7"
      },
      "outputs": [],
      "source": [
        "query_6_4 = f'''\n",
        "    SELECT\n",
        "        COUNT(id)\n",
        "    FROM\n",
        "        public.vacancies\n",
        "    WHERE\n",
        "        {ds_filter}\n",
        "        AND\n",
        "        lower(key_skills) LIKE '%python%'\n",
        "'''"
      ]
    },
    {
      "cell_type": "code",
      "execution_count": 46,
      "id": "1i-5WyucvQ6v",
      "metadata": {
        "id": "1i-5WyucvQ6v"
      },
      "outputs": [
        {
          "name": "stdout",
          "output_type": "stream",
          "text": [
            "Количество вакансий, в которых ключевым навыком является Python: 351\n"
          ]
        }
      ],
      "source": [
        "ds_python = pd.read_sql_query(query_6_4, connection)\n",
        "print('Количество вакансий, в которых ключевым навыком является Python:', ds_python.iloc[0, 0])"
      ]
    },
    {
      "cell_type": "markdown",
      "id": "ec3c8db7-fa21-4a41-a994-1af63742a642",
      "metadata": {
        "id": "ec3c8db7-fa21-4a41-a994-1af63742a642"
      },
      "source": [
        "5. Сколько ключевых навыков в среднем указывают в вакансиях для DS?\n",
        "Ответ округлите до двух знаков после точки-разделителя."
      ]
    },
    {
      "cell_type": "code",
      "execution_count": 47,
      "id": "949132bc-d5b6-4611-8218-0b9a504d74f4",
      "metadata": {
        "id": "949132bc-d5b6-4611-8218-0b9a504d74f4"
      },
      "outputs": [],
      "source": [
        "query_6_5 = f'''\n",
        "    SELECT\n",
        "        key_skills\n",
        "    FROM\n",
        "        public.vacancies\n",
        "    WHERE\n",
        "        {ds_filter}\n",
        "'''"
      ]
    },
    {
      "cell_type": "code",
      "execution_count": 48,
      "id": "a3V24Tvmviqk",
      "metadata": {
        "id": "a3V24Tvmviqk"
      },
      "outputs": [
        {
          "name": "stdout",
          "output_type": "stream",
          "text": [
            "В среднем в вакансиях для DS указывают 6.41 ключевых навыков\n"
          ]
        }
      ],
      "source": [
        "ds_skills = pd.read_sql_query(query_6_5, connection)\n",
        "not_null_mask = ds_skills['key_skills'].notnull()\n",
        "skills_len = ds_skills[not_null_mask]['key_skills'].apply(lambda x: len(str(x).split('\\t')))\n",
        "skills_mean = round(skills_len.mean(), 2)\n",
        "print(f'В среднем в вакансиях для DS указывают {skills_mean} ключевых навыков')"
      ]
    },
    {
      "cell_type": "markdown",
      "id": "1041c17a-ca8f-4543-a0ca-32778914fb00",
      "metadata": {
        "id": "1041c17a-ca8f-4543-a0ca-32778914fb00"
      },
      "source": [
        "6. Напишите запрос, позволяющий вычислить, какую зарплату для DS в **среднем** указывают для каждого типа требуемого опыта (уникальное значение из поля *experience*). \n",
        "\n",
        "При решении задачи примите во внимание следующее:\n",
        "1. Рассматриваем только вакансии, у которых заполнено хотя бы одно из двух полей с зарплатой.\n",
        "2. Если заполнены оба поля с зарплатой, то считаем зарплату по каждой вакансии как сумму двух полей, делённую на 2. Если заполнено только одно из полей, то его и считаем зарплатой по вакансии.\n",
        "3. Если в расчётах участвует null, в результате он тоже даст null (посмотрите, что возвращает запрос select 1 + null). Чтобы избежать этой ситуацию, мы воспользуемся функцией [coalesce](https://postgrespro.ru/docs/postgresql/9.5/functions-conditional#functions-coalesce-nvl-ifnull), которая заменит null на значение, которое мы передадим. Например, посмотрите, что возвращает запрос `select 1 + coalesce(null, 0)`\n",
        "\n",
        "Выясните, на какую зарплату в среднем может рассчитывать дата-сайентист с опытом работы от 3 до 6 лет. Результат округлите до целого числа. "
      ]
    },
    {
      "cell_type": "code",
      "execution_count": 49,
      "id": "6a743d39-5204-48d3-8271-b9f88e68d40e",
      "metadata": {
        "id": "6a743d39-5204-48d3-8271-b9f88e68d40e"
      },
      "outputs": [],
      "source": [
        "query_6_6 = f'''\n",
        "    WITH exp_salary AS (\n",
        "        SELECT\n",
        "            experience,\n",
        "            COALESCE(salary_to, 0) + COALESCE(salary_from, 0) salary\n",
        "        FROM\n",
        "            public.vacancies\n",
        "        WHERE\n",
        "            {ds_filter}\n",
        "            AND(\n",
        "                (salary_from IS NOT NULL AND salary_to IS NULL)\n",
        "                OR (salary_from IS NULL AND salary_to IS NOT NULL)\n",
        "            )\n",
        "        \n",
        "        UNION ALL\n",
        "    \n",
        "        SELECT\n",
        "            experience,\n",
        "            (salary_to + salary_from) / 2\n",
        "        FROM\n",
        "            public.vacancies\n",
        "        WHERE\n",
        "            {ds_filter}\n",
        "            AND(salary_from IS NOT NULL\n",
        "                AND salary_to IS NOT NULL)\n",
        "    )\n",
        "    SELECT\n",
        "        es.experience,\n",
        "        AVG(es.salary) average_salary\n",
        "    FROM exp_salary es\n",
        "    GROUP BY es.experience\n",
        "'''"
      ]
    },
    {
      "cell_type": "code",
      "execution_count": 50,
      "id": "aRIJ0mZEwU1_",
      "metadata": {
        "id": "aRIJ0mZEwU1_"
      },
      "outputs": [
        {
          "data": {
            "text/html": [
              "<div>\n",
              "<style scoped>\n",
              "    .dataframe tbody tr th:only-of-type {\n",
              "        vertical-align: middle;\n",
              "    }\n",
              "\n",
              "    .dataframe tbody tr th {\n",
              "        vertical-align: top;\n",
              "    }\n",
              "\n",
              "    .dataframe thead th {\n",
              "        text-align: right;\n",
              "    }\n",
              "</style>\n",
              "<table border=\"1\" class=\"dataframe\">\n",
              "  <thead>\n",
              "    <tr style=\"text-align: right;\">\n",
              "      <th></th>\n",
              "      <th>experience</th>\n",
              "      <th>average_salary</th>\n",
              "    </tr>\n",
              "  </thead>\n",
              "  <tbody>\n",
              "    <tr>\n",
              "      <th>0</th>\n",
              "      <td>От 3 до 6 лет</td>\n",
              "      <td>243114.666667</td>\n",
              "    </tr>\n",
              "    <tr>\n",
              "      <th>1</th>\n",
              "      <td>От 1 года до 3 лет</td>\n",
              "      <td>139674.750000</td>\n",
              "    </tr>\n",
              "    <tr>\n",
              "      <th>2</th>\n",
              "      <td>Нет опыта</td>\n",
              "      <td>74642.857143</td>\n",
              "    </tr>\n",
              "  </tbody>\n",
              "</table>\n",
              "</div>"
            ],
            "text/plain": [
              "           experience  average_salary\n",
              "0       От 3 до 6 лет   243114.666667\n",
              "1  От 1 года до 3 лет   139674.750000\n",
              "2           Нет опыта    74642.857143"
            ]
          },
          "metadata": {},
          "output_type": "display_data"
        }
      ],
      "source": [
        "mean_salary = pd.read_sql_query(query_6_6, connection)\n",
        "display(mean_salary)"
      ]
    },
    {
      "cell_type": "markdown",
      "id": "6a7892b4-4113-4746-adce-18aa2844f18e",
      "metadata": {
        "id": "6a7892b4-4113-4746-adce-18aa2844f18e"
      },
      "source": [
        "***"
      ]
    },
    {
      "cell_type": "code",
      "execution_count": 51,
      "id": "91b1b0e6",
      "metadata": {},
      "outputs": [
        {
          "name": "stdout",
          "output_type": "stream",
          "text": [
            "Процент вакансий, в которых требуются навыки работы с данными: 3.6%\n",
            "Процент подходящих для DS junior-специалиста вакансий: 0.1%\n"
          ]
        }
      ],
      "source": [
        "data_vacancies_count = str(round(data_vacancies.iloc[0, 0] / total_vacancies.iloc[0, 0] * 100, 2)) + '%'\n",
        "junior_ds_count = str(round(ds_vacancies_junior.iloc[0, 0] / total_vacancies.iloc[0, 0] * 100, 2)) + '%'\n",
        "print(\n",
        "    f'''Процент вакансий, в которых требуются навыки работы с данными: {data_vacancies_count}\n",
        "Процент подходящих для DS junior-специалиста вакансий: {junior_ds_count}'''\n",
        ")"
      ]
    },
    {
      "attachments": {},
      "cell_type": "markdown",
      "id": "4e32388a",
      "metadata": {},
      "source": [
        "* Владение Python указано в вакансиях для DS чаще, чем владение SQL/postgres. Однако, вероятнее всего, это не означает, что SQL/postgres ценятся меньше, потому что вакансия работы с данными подразумевает навыки работы с базами данных, и некоторые работодатели просто не указывают в вакансии это, но на собеседовании потребуют.\n",
        "* В среднем указывают 6 ключевых навыков в вакансиях, это означает, что необходимо разбираться как минимум в шести разных инструментах/библиотеках, когда претендуешь на должность, а так же уметь объединять логику между ними, например, интеграция SQL через Python с помощью pandas.\n",
        "* Для junior DS-специалиста без опыта в среднем предлагаемая ЗП - 74 000 руб., что свидетельствует о том, что это направление очень востребовано и перспективно.\n",
        "* Хоть процент подходящих вакансий для junior DS-специалиста без опыта довольно низок, это не означает, что их действительно настолько мало. Многие работодатели не указывают ключевые слова \"junior, без опыта, стажировка\", хотя при этом всегда могут рассматривать перспективных специалистов без опыта, если те имеют достаточно знаний."
      ]
    },
    {
      "cell_type": "markdown",
      "id": "c0ED6fh7wiBT",
      "metadata": {
        "id": "c0ED6fh7wiBT"
      },
      "source": [
        "# Общий вывод по проекту"
      ]
    },
    {
      "attachments": {},
      "cell_type": "markdown",
      "id": "a004c889",
      "metadata": {},
      "source": [
        "Напишем запрос к БД, чтобы получить все вакансии для DS с полным набором информации как о самих вакансиях, так и о работодателях, сферах деятельности и регионах для каждой вакансии."
      ]
    },
    {
      "cell_type": "code",
      "execution_count": 52,
      "id": "a943ded2",
      "metadata": {},
      "outputs": [],
      "source": [
        "full_ds_query = f'''\n",
        "    SELECT\n",
        "        vacancies.id,\n",
        "        vacancies.name \"Должность\",\n",
        "        vacancies.key_skills \"Ключевые навыки\",\n",
        "        vacancies.schedule \"График\",\n",
        "        vacancies.experience \"Опыт\",\n",
        "        vacancies.employment \"Занятость\",\n",
        "        vacancies.salary_from \"ЗП(от)\",\n",
        "        vacancies.salary_to \"ЗП(до)\",\n",
        "        a.name \"Регион\",\n",
        "        e.name \"Работодатель\",\n",
        "        i.name \"Сферы деятельности\"\n",
        "    FROM\n",
        "        public.vacancies vacancies\n",
        "        LEFT JOIN public.areas a ON vacancies.area_id = a.id\n",
        "        LEFT JOIN public.employers e ON vacancies.employer_id = e.id\n",
        "        LEFT JOIN public.employers_industries ei ON e.id = ei.employer_id\n",
        "        LEFT JOIN public.industries i ON ei.industry_id = i.id\n",
        "    WHERE\n",
        "        {ds_filter}\n",
        "'''"
      ]
    },
    {
      "attachments": {},
      "cell_type": "markdown",
      "id": "d25d16eb",
      "metadata": {},
      "source": [
        "Посмотрим на датафрейм для всех Data Science вакансий."
      ]
    },
    {
      "cell_type": "code",
      "execution_count": 53,
      "id": "bf77072d",
      "metadata": {},
      "outputs": [
        {
          "data": {
            "text/html": [
              "<div>\n",
              "<style scoped>\n",
              "    .dataframe tbody tr th:only-of-type {\n",
              "        vertical-align: middle;\n",
              "    }\n",
              "\n",
              "    .dataframe tbody tr th {\n",
              "        vertical-align: top;\n",
              "    }\n",
              "\n",
              "    .dataframe thead th {\n",
              "        text-align: right;\n",
              "    }\n",
              "</style>\n",
              "<table border=\"1\" class=\"dataframe\">\n",
              "  <thead>\n",
              "    <tr style=\"text-align: right;\">\n",
              "      <th></th>\n",
              "      <th>id</th>\n",
              "      <th>Должность</th>\n",
              "      <th>Ключевые навыки</th>\n",
              "      <th>График</th>\n",
              "      <th>Опыт</th>\n",
              "      <th>Занятость</th>\n",
              "      <th>ЗП(от)</th>\n",
              "      <th>ЗП(до)</th>\n",
              "      <th>Регион</th>\n",
              "      <th>Работодатель</th>\n",
              "      <th>Сферы деятельности</th>\n",
              "    </tr>\n",
              "  </thead>\n",
              "  <tbody>\n",
              "    <tr>\n",
              "      <th>0</th>\n",
              "      <td>50533416</td>\n",
              "      <td>Junior+ CV/ML developer</td>\n",
              "      <td>Python\\tSQL\\tРабота в команде\\tOpenCV\\tML</td>\n",
              "      <td>Гибкий график</td>\n",
              "      <td>От 1 года до 3 лет</td>\n",
              "      <td>Полная занятость</td>\n",
              "      <td>NaN</td>\n",
              "      <td>NaN</td>\n",
              "      <td>Новосибирск</td>\n",
              "      <td>Технологика</td>\n",
              "      <td>Системная интеграция,  автоматизации технологи...</td>\n",
              "    </tr>\n",
              "    <tr>\n",
              "      <th>1</th>\n",
              "      <td>50533416</td>\n",
              "      <td>Junior+ CV/ML developer</td>\n",
              "      <td>Python\\tSQL\\tРабота в команде\\tOpenCV\\tML</td>\n",
              "      <td>Гибкий график</td>\n",
              "      <td>От 1 года до 3 лет</td>\n",
              "      <td>Полная занятость</td>\n",
              "      <td>NaN</td>\n",
              "      <td>NaN</td>\n",
              "      <td>Новосибирск</td>\n",
              "      <td>Технологика</td>\n",
              "      <td>Разработка программного обеспечения</td>\n",
              "    </tr>\n",
              "    <tr>\n",
              "      <th>2</th>\n",
              "      <td>54824572</td>\n",
              "      <td>Data Scientist</td>\n",
              "      <td>Oracle Pl/SQL\\tБазы данных\\tMachine Learning\\t...</td>\n",
              "      <td>Полный день</td>\n",
              "      <td>От 1 года до 3 лет</td>\n",
              "      <td>Полная занятость</td>\n",
              "      <td>NaN</td>\n",
              "      <td>NaN</td>\n",
              "      <td>Алматы</td>\n",
              "      <td>Мобайл Телеком-Сервис (Объединенная Компания T...</td>\n",
              "      <td>Мобильная связь</td>\n",
              "    </tr>\n",
              "    <tr>\n",
              "      <th>3</th>\n",
              "      <td>54825318</td>\n",
              "      <td>Data Scientist (Junior+)</td>\n",
              "      <td>Python\\tOpenCV\\tTensorflow\\tComputer Vision\\tН...</td>\n",
              "      <td>Полный день</td>\n",
              "      <td>От 1 года до 3 лет</td>\n",
              "      <td>Полная занятость</td>\n",
              "      <td>50000.0</td>\n",
              "      <td>70000.0</td>\n",
              "      <td>Пермь</td>\n",
              "      <td>Випакс+</td>\n",
              "      <td>Разработка программного обеспечения</td>\n",
              "    </tr>\n",
              "    <tr>\n",
              "      <th>4</th>\n",
              "      <td>54825318</td>\n",
              "      <td>Data Scientist (Junior+)</td>\n",
              "      <td>Python\\tOpenCV\\tTensorflow\\tComputer Vision\\tН...</td>\n",
              "      <td>Полный день</td>\n",
              "      <td>От 1 года до 3 лет</td>\n",
              "      <td>Полная занятость</td>\n",
              "      <td>50000.0</td>\n",
              "      <td>70000.0</td>\n",
              "      <td>Пермь</td>\n",
              "      <td>Випакс+</td>\n",
              "      <td>Промышленное, бытовое электрооборудование и эл...</td>\n",
              "    </tr>\n",
              "  </tbody>\n",
              "</table>\n",
              "</div>"
            ],
            "text/plain": [
              "         id                 Должность  \\\n",
              "0  50533416   Junior+ CV/ML developer   \n",
              "1  50533416   Junior+ CV/ML developer   \n",
              "2  54824572            Data Scientist   \n",
              "3  54825318  Data Scientist (Junior+)   \n",
              "4  54825318  Data Scientist (Junior+)   \n",
              "\n",
              "                                     Ключевые навыки         График  \\\n",
              "0          Python\\tSQL\\tРабота в команде\\tOpenCV\\tML  Гибкий график   \n",
              "1          Python\\tSQL\\tРабота в команде\\tOpenCV\\tML  Гибкий график   \n",
              "2  Oracle Pl/SQL\\tБазы данных\\tMachine Learning\\t...    Полный день   \n",
              "3  Python\\tOpenCV\\tTensorflow\\tComputer Vision\\tН...    Полный день   \n",
              "4  Python\\tOpenCV\\tTensorflow\\tComputer Vision\\tН...    Полный день   \n",
              "\n",
              "                 Опыт         Занятость   ЗП(от)   ЗП(до)       Регион  \\\n",
              "0  От 1 года до 3 лет  Полная занятость      NaN      NaN  Новосибирск   \n",
              "1  От 1 года до 3 лет  Полная занятость      NaN      NaN  Новосибирск   \n",
              "2  От 1 года до 3 лет  Полная занятость      NaN      NaN       Алматы   \n",
              "3  От 1 года до 3 лет  Полная занятость  50000.0  70000.0        Пермь   \n",
              "4  От 1 года до 3 лет  Полная занятость  50000.0  70000.0        Пермь   \n",
              "\n",
              "                                        Работодатель  \\\n",
              "0                                        Технологика   \n",
              "1                                        Технологика   \n",
              "2  Мобайл Телеком-Сервис (Объединенная Компания T...   \n",
              "3                                            Випакс+   \n",
              "4                                            Випакс+   \n",
              "\n",
              "                                  Сферы деятельности  \n",
              "0  Системная интеграция,  автоматизации технологи...  \n",
              "1                Разработка программного обеспечения  \n",
              "2                                    Мобильная связь  \n",
              "3                Разработка программного обеспечения  \n",
              "4  Промышленное, бытовое электрооборудование и эл...  "
            ]
          },
          "execution_count": 53,
          "metadata": {},
          "output_type": "execute_result"
        }
      ],
      "source": [
        "full_ds_vacancies = pd.read_sql_query(full_ds_query, connection)\n",
        "full_ds_vacancies.head()"
      ]
    },
    {
      "attachments": {},
      "cell_type": "markdown",
      "id": "51a1f81e",
      "metadata": {},
      "source": [
        "Уберём табуляцию в ключевых навыках."
      ]
    },
    {
      "cell_type": "code",
      "execution_count": 54,
      "id": "b02d399a",
      "metadata": {},
      "outputs": [
        {
          "data": {
            "text/plain": [
              "0            Python, SQL, Работа в команде, OpenCV, ML\n",
              "1            Python, SQL, Работа в команде, OpenCV, ML\n",
              "2    Oracle Pl/SQL, Базы данных, Machine Learning, ...\n",
              "3    Python, OpenCV, Tensorflow, Computer Vision, Н...\n",
              "4    Python, OpenCV, Tensorflow, Computer Vision, Н...\n",
              "Name: Ключевые навыки, dtype: object"
            ]
          },
          "execution_count": 54,
          "metadata": {},
          "output_type": "execute_result"
        }
      ],
      "source": [
        "full_ds_vacancies['Ключевые навыки'] = full_ds_vacancies['Ключевые навыки'].apply(lambda skills: str(skills).replace('\\t', ', '))\n",
        "full_ds_vacancies['Ключевые навыки'].head()"
      ]
    },
    {
      "attachments": {},
      "cell_type": "markdown",
      "id": "ba91136a",
      "metadata": {},
      "source": [
        "Посмотрим, какие ключевые навыки более востребованы."
      ]
    },
    {
      "cell_type": "code",
      "execution_count": 55,
      "id": "e53fa4f0",
      "metadata": {},
      "outputs": [
        {
          "name": "stdout",
          "output_type": "stream",
          "text": [
            "Количество различных ключевых навыков: 431\n"
          ]
        }
      ],
      "source": [
        "key_skills = {}\n",
        "\n",
        "def count_skills(skills:str):\n",
        "    for skill in skills.split(', '):\n",
        "        # On previous step we could take None's as string\n",
        "        if skill not in key_skills.keys() and skill != 'None':\n",
        "            key_skills[skill] = 1\n",
        "        elif skill != 'None':\n",
        "            key_skills[skill] += 1\n",
        "\n",
        "# Fill key_skills dict by (skill: count) scheme\n",
        "full_ds_vacancies['Ключевые навыки'].apply(count_skills)\n",
        "# Series is easier to process data instead of dict\n",
        "key_skills_series = pd.Series(key_skills)\n",
        "print('Количество различных ключевых навыков:', key_skills_series.shape[0])"
      ]
    },
    {
      "attachments": {},
      "cell_type": "markdown",
      "id": "c7ed232e",
      "metadata": {},
      "source": [
        "Слишком много различных ключевых навыков, выделим топ-10 самых популярных и построим график по этому топ-10."
      ]
    },
    {
      "cell_type": "code",
      "execution_count": 56,
      "id": "e06e3ca5",
      "metadata": {},
      "outputs": [
        {
          "data": {
            "image/png": "[encoded data removed]"
          },
          "metadata": {},
          "output_type": "display_data"
        }
      ],
      "source": [
        "key_skills_top = key_skills_series.sort_values(ascending=False)[:10]\n",
        "key_skills_bar = px.bar(\n",
        "    key_skills_top,\n",
        "    color=key_skills_top.index,\n",
        "    labels={'index': 'Навык', 'value': 'Количество в вакансиях'},\n",
        "    title='Топ-10 наиболее встречающихся навыков в вакансиях DS',\n",
        "    width=1200,\n",
        "    height=600\n",
        ")\n",
        "key_skills_bar.show()"
      ]
    },
    {
      "attachments": {},
      "cell_type": "markdown",
      "id": "6454c67a",
      "metadata": {},
      "source": [
        "Из графика можем сделать следующий вывод:\n",
        "* Кроме владения Python, SQL и Machine Learning необходимо ещё отлично знать математическую статистику, Git, математическое моделирование, а также иметь навыки работы с OS Linux."
      ]
    },
    {
      "attachments": {},
      "cell_type": "markdown",
      "id": "e3df63fc",
      "metadata": {},
      "source": [
        "Посмотрим на распределение по опыту среди вакансий DS."
      ]
    },
    {
      "cell_type": "code",
      "execution_count": 57,
      "id": "48c6bc49",
      "metadata": {},
      "outputs": [
        {
          "data": {
            "image/png": "[encoded data removed]"
          },
          "metadata": {},
          "output_type": "display_data"
        }
      ],
      "source": [
        "exp_rate_bar = px.pie(\n",
        "    full_ds_vacancies.sort_values(by='Опыт'),\n",
        "    names='Опыт',\n",
        "    width=600,\n",
        "    height=500,\n",
        "    title='Распределение опыта работы для DS вакансий'\n",
        ")\n",
        "exp_rate_bar.update_traces(textposition='inside', textinfo='percent+label')"
      ]
    },
    {
      "attachments": {},
      "cell_type": "markdown",
      "id": "e1a9e6d7",
      "metadata": {},
      "source": [
        "Сгруппируем медианную(менее подвержена разбросу значений) ЗП по опыту работы."
      ]
    },
    {
      "cell_type": "code",
      "execution_count": 58,
      "id": "f076469b",
      "metadata": {},
      "outputs": [
        {
          "data": {
            "text/html": [
              "<div>\n",
              "<style scoped>\n",
              "    .dataframe tbody tr th:only-of-type {\n",
              "        vertical-align: middle;\n",
              "    }\n",
              "\n",
              "    .dataframe tbody tr th {\n",
              "        vertical-align: top;\n",
              "    }\n",
              "\n",
              "    .dataframe thead th {\n",
              "        text-align: right;\n",
              "    }\n",
              "</style>\n",
              "<table border=\"1\" class=\"dataframe\">\n",
              "  <thead>\n",
              "    <tr style=\"text-align: right;\">\n",
              "      <th></th>\n",
              "      <th>ЗП(от)</th>\n",
              "      <th>ЗП(до)</th>\n",
              "    </tr>\n",
              "    <tr>\n",
              "      <th>Опыт</th>\n",
              "      <th></th>\n",
              "      <th></th>\n",
              "    </tr>\n",
              "  </thead>\n",
              "  <tbody>\n",
              "    <tr>\n",
              "      <th>Более 6 лет</th>\n",
              "      <td>NaN</td>\n",
              "      <td>NaN</td>\n",
              "    </tr>\n",
              "    <tr>\n",
              "      <th>Нет опыта</th>\n",
              "      <td>60000.0</td>\n",
              "      <td>100000.0</td>\n",
              "    </tr>\n",
              "    <tr>\n",
              "      <th>От 1 года до 3 лет</th>\n",
              "      <td>100000.0</td>\n",
              "      <td>146456.0</td>\n",
              "    </tr>\n",
              "    <tr>\n",
              "      <th>От 3 до 6 лет</th>\n",
              "      <td>200000.0</td>\n",
              "      <td>292242.0</td>\n",
              "    </tr>\n",
              "  </tbody>\n",
              "</table>\n",
              "</div>"
            ],
            "text/plain": [
              "                      ЗП(от)    ЗП(до)\n",
              "Опыт                                  \n",
              "Более 6 лет              NaN       NaN\n",
              "Нет опыта            60000.0  100000.0\n",
              "От 1 года до 3 лет  100000.0  146456.0\n",
              "От 3 до 6 лет       200000.0  292242.0"
            ]
          },
          "metadata": {},
          "output_type": "display_data"
        }
      ],
      "source": [
        "# Delete rows with more than 2 empty columns\n",
        "without_na = full_ds_vacancies.dropna(axis=0, thresh=full_ds_vacancies.columns.shape[0]-2)\n",
        "grouped_exp_salary = without_na.groupby('Опыт')[['ЗП(от)', 'ЗП(до)']].median().sort_values(by='Опыт')\n",
        "display(grouped_exp_salary)"
      ]
    },
    {
      "attachments": {},
      "cell_type": "markdown",
      "id": "8ea33036",
      "metadata": {},
      "source": [
        "Из сгруппированной таблицы можем наблюдать, что для вакансий, в которых требуемый опыт более 6 лет, не указываются зп. Вероятно, дело в том, что суммы уже договорные и сильно зависят от навыков соискателя."
      ]
    },
    {
      "attachments": {},
      "cell_type": "markdown",
      "id": "e7829644",
      "metadata": {},
      "source": [
        "Построим график, иллюстрирующий темп роста средней ЗП (между нижней и верхней вилками) с ростом опыта соискателя"
      ]
    },
    {
      "cell_type": "code",
      "execution_count": 59,
      "id": "7f2e037e",
      "metadata": {},
      "outputs": [
        {
          "data": {
            "image/png": "[encoded data removed]"
          },
          "metadata": {},
          "output_type": "display_data"
        }
      ],
      "source": [
        "mean_salary_by_exp = grouped_exp_salary.dropna()\n",
        "mean_salary_by_exp['ЗП(средняя)'] = (mean_salary_by_exp['ЗП(от)'] + mean_salary_by_exp['ЗП(до)']) / 2\n",
        "salary_growth_rate = px.line(\n",
        "    mean_salary_by_exp,\n",
        "    x='ЗП(средняя)',\n",
        "    title='Темп роста усредненной ЗП с ростом опыта работы',\n",
        "    width=900,\n",
        "    height=400\n",
        ")\n",
        "salary_growth_rate.show()"
      ]
    },
    {
      "attachments": {},
      "cell_type": "markdown",
      "id": "abe58ecb",
      "metadata": {},
      "source": [
        "Из графика можем наблюдать, что самый наибольший темп роста - в первые 1-3 года, когда специалист растёт из junior в middle."
      ]
    },
    {
      "attachments": {},
      "cell_type": "markdown",
      "id": "e416c6c3",
      "metadata": {},
      "source": [
        "## Итоги"
      ]
    },
    {
      "attachments": {},
      "cell_type": "markdown",
      "id": "089ef9fa",
      "metadata": {},
      "source": [
        "* DS-вакансий от работодателей достаточно, чтобы каждый специалист с достаточным уровнем знаний нашёл для себя работу.\n",
        "* DS - набирающая популярность профессия, т.к. хоть вакансий пока в процентном соотношении не так много, как хотелось бы, но зарплаты говорят о том, что компании готовы немало платить хорошим специалистам по данной профессии.\n",
        "* Полагаю, в ближайшие 2-3 года количество вакансий сильно возрастет, т.к. всё больше и больше компаний увидят в том, что машинное обучение и нейросети могут приумножить прибыль.\n",
        "* Напротив высокой ЗП стоят и высокие требования к hard-skills соискателя, необходимо хорошо углубить свои знания в таких аспектах, как:\n",
        "    1. Python\n",
        "    2. SQL\n",
        "    3. Machine Learning\n",
        "    4. Math statistics\n",
        "    5. Git\n",
        "    6. Linux\n"
      ]
    }
  ],
  "metadata": {
    "colab": {
      "collapsed_sections": [
        "8d62a9f3-f64e-4fe7-bdac-c4dffa16155e"
      ],
      "provenance": []
    },
    "kernelspec": {
      "display_name": "Python 3",
      "language": "python",
      "name": "python3"
    },
    "language_info": {
      "codemirror_mode": {
        "name": "ipython",
        "version": 3
      },
      "file_extension": ".py",
      "mimetype": "text/x-python",
      "name": "python",
      "nbconvert_exporter": "python",
      "pygments_lexer": "ipython3",
      "version": "3.10.8"
    },
    "vscode": {
      "interpreter": {
        "hash": "fb20c442e0104b8ce40b03cd7341de174458a527309743708071e02be5946d8e"
      }
    }
  },
  "nbformat": 4,
  "nbformat_minor": 5
}
